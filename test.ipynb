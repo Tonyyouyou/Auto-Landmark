{
 "cells": [
  {
   "cell_type": "code",
   "execution_count": 1,
   "metadata": {},
   "outputs": [],
   "source": [
    "from methods.Basic.waveform_freq import waveform_freq"
   ]
  },
  {
   "cell_type": "code",
   "execution_count": 1,
   "metadata": {},
   "outputs": [],
   "source": [
    "file_path = '/srv/scratch/z5459037/Data/test.wav'"
   ]
  },
  {
   "cell_type": "code",
   "execution_count": 3,
   "metadata": {},
   "outputs": [],
   "source": [
    "arr, fs0  = waveform_freq(file_path, 16000)"
   ]
  },
  {
   "cell_type": "code",
   "execution_count": 4,
   "metadata": {},
   "outputs": [
    {
     "data": {
      "text/plain": [
       "(36480,)"
      ]
     },
     "execution_count": 4,
     "metadata": {},
     "output_type": "execute_result"
    }
   ],
   "source": [
    "arr.shape"
   ]
  },
  {
   "cell_type": "code",
   "execution_count": 5,
   "metadata": {},
   "outputs": [
    {
     "data": {
      "text/plain": [
       "48000"
      ]
     },
     "execution_count": 5,
     "metadata": {},
     "output_type": "execute_result"
    }
   ],
   "source": [
    "fs0"
   ]
  },
  {
   "cell_type": "code",
   "execution_count": 1,
   "metadata": {},
   "outputs": [],
   "source": [
    "%load_ext autoreload\n",
    "%autoreload 2"
   ]
  },
  {
   "cell_type": "code",
   "execution_count": 2,
   "metadata": {},
   "outputs": [
    {
     "name": "stdout",
     "output_type": "stream",
     "text": [
      "[[0.5 1. ]\n",
      " [2.  3. ]]\n",
      "\n",
      "Kernel must be Integer or vector (length > 1). Instead got [2].\n",
      "\n",
      "[[0.5 1. ]\n",
      " [2.  3. ]]\n",
      "\n",
      "[[1.33333333 2.        ]\n",
      " [1.33333333 2.        ]]\n",
      "\n",
      "Kernel must be Integer or vector (length > 1). Instead got [[2, 2, 2], [1, 1, 1]].\n",
      "\n",
      "[[0.5 1. ]\n",
      " [2.  3. ]]\n",
      "\n"
     ]
    }
   ],
   "source": [
    "from methods.Basic.smooth import smooth\n",
    "\n",
    "arr1 = [[1, 2], [3, 4]]\n",
    "# [2] and [[2, 2, 2], [1, 1, 1]] should fail\n",
    "arr2 = [2, [2], [2, 2], [2, 2, 2], [[2, 2, 2], [1, 1, 1]], -2]\n",
    "\n",
    "for _arr2 in arr2:\n",
    "    try:\n",
    "        print(smooth(arr1, _arr2, True))\n",
    "        print()\n",
    "    except Exception as e:\n",
    "        print(e)\n",
    "        print()"
   ]
  },
  {
   "cell_type": "code",
   "execution_count": 2,
   "metadata": {},
   "outputs": [],
   "source": [
    "from methods.Basic.Landmarks_func import Landmarks_base, Localized_peaks"
   ]
  },
  {
   "cell_type": "code",
   "execution_count": 3,
   "metadata": {},
   "outputs": [],
   "source": [
    "downsample_file = '/srv/scratch/z5459037/Data/test.wav'"
   ]
  },
  {
   "cell_type": "code",
   "execution_count": 4,
   "metadata": {},
   "outputs": [
    {
     "name": "stdout",
     "output_type": "stream",
     "text": [
      "10\n"
     ]
    }
   ],
   "source": [
    "thresholds = [10]\n",
    "for thr in thresholds:\n",
    "    print(thr)"
   ]
  },
  {
   "cell_type": "code",
   "execution_count": 5,
   "metadata": {},
   "outputs": [],
   "source": [
    "obj1 = Landmarks_base(downsample_file)\n",
    "[Fs, Y, T, Y_len, ms_s] = obj1.wav_read_info()"
   ]
  },
  {
   "cell_type": "code",
   "execution_count": 6,
   "metadata": {},
   "outputs": [],
   "source": [
    "peak_dict, length = obj1.band_peak_detect(thr=thr)"
   ]
  },
  {
   "cell_type": "code",
   "execution_count": null,
   "metadata": {},
   "outputs": [],
   "source": [
    "peak_dict"
   ]
  },
  {
   "cell_type": "code",
   "execution_count": 6,
   "metadata": {},
   "outputs": [
    {
     "data": {
      "text/plain": [
       "2275"
      ]
     },
     "execution_count": 6,
     "metadata": {},
     "output_type": "execute_result"
    }
   ],
   "source": [
    "length"
   ]
  },
  {
   "cell_type": "code",
   "execution_count": 8,
   "metadata": {},
   "outputs": [
    {
     "name": "stderr",
     "output_type": "stream",
     "text": [
      "/home/z5459037/Auto-Landmark/methods/Basic/Landmarks_func.py:189: RuntimeWarning: invalid value encountered in cast\n",
      "  b_region = np.array(peak_file.loc[peak_file['transition'] != -2, ['start', 'end']]).astype(int)\n"
     ]
    }
   ],
   "source": [
    "obj2 = Localized_peaks(obj1, thr=10)\n",
    "[landmarks, pp_arr, pn_arr, peak_file] = obj2.localPeak()"
   ]
  },
  {
   "cell_type": "code",
   "execution_count": 9,
   "metadata": {},
   "outputs": [
    {
     "data": {
      "text/plain": [
       "{'g+': array([0.033, 0.202, 0.451, 0.518, 0.683, 0.769, 0.861, 0.964, 1.174,\n",
       "        1.324, 1.512, 1.692, 1.807, 1.896, 2.11 , 3.028, 3.101, 3.247,\n",
       "        4.068, 4.16 , 4.306, 4.608, 5.309, 5.431, 5.554, 5.859, 5.983,\n",
       "        6.106, 6.214, 6.401, 6.496, 6.569, 6.637, 6.725]),\n",
       " 'g-': array([0.149, 0.401, 0.485, 0.577, 0.662, 0.749, 0.84 , 0.915, 1.039,\n",
       "        1.154, 1.296, 1.436, 1.536, 1.651, 1.872, 2.691, 2.836, 2.971,\n",
       "        3.081, 3.148, 3.764, 4.048, 4.138, 4.589, 5.288, 5.411, 5.509,\n",
       "        5.594, 5.718, 5.839, 5.957, 6.085, 6.174, 6.451, 6.525, 6.701,\n",
       "        6.811]),\n",
       " 's+': array([0.99 , 3.103]),\n",
       " 's-': array([4.1]),\n",
       " 'b+': array([4.237]),\n",
       " 'b-': array([], dtype=float64),\n",
       " 'v+': array([], dtype=float64),\n",
       " 'v-': array([], dtype=float64),\n",
       " 'f+': array([], dtype=float64),\n",
       " 'f-': array([], dtype=float64)}"
      ]
     },
     "execution_count": 9,
     "metadata": {},
     "output_type": "execute_result"
    }
   ],
   "source": [
    "landmarks"
   ]
  },
  {
   "cell_type": "code",
   "execution_count": 12,
   "metadata": {},
   "outputs": [
    {
     "data": {
      "text/plain": [
       "37"
      ]
     },
     "execution_count": 12,
     "metadata": {},
     "output_type": "execute_result"
    }
   ],
   "source": [
    "len(landmarks['g-'])"
   ]
  },
  {
   "cell_type": "code",
   "execution_count": 13,
   "metadata": {},
   "outputs": [
    {
     "data": {
      "text/plain": [
       "34"
      ]
     },
     "execution_count": 13,
     "metadata": {},
     "output_type": "execute_result"
    }
   ],
   "source": [
    "len(landmarks['g+'])"
   ]
  },
  {
   "cell_type": "code",
   "execution_count": null,
   "metadata": {},
   "outputs": [],
   "source": []
  }
 ],
 "metadata": {
  "kernelspec": {
   "display_name": "pytorch",
   "language": "python",
   "name": "python3"
  },
  "language_info": {
   "codemirror_mode": {
    "name": "ipython",
    "version": 3
   },
   "file_extension": ".py",
   "mimetype": "text/x-python",
   "name": "python",
   "nbconvert_exporter": "python",
   "pygments_lexer": "ipython3",
   "version": "3.11.4"
  },
  "orig_nbformat": 4
 },
 "nbformat": 4,
 "nbformat_minor": 2
}
