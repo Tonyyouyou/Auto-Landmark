{
 "cells": [
  {
   "cell_type": "code",
   "execution_count": 1,
   "metadata": {},
   "outputs": [],
   "source": [
    "from methods.Basic.waveform_freq import waveform_freq"
   ]
  },
  {
   "cell_type": "code",
   "execution_count": 2,
   "metadata": {},
   "outputs": [],
   "source": [
    "file_path = '/export/c07/xzhan233/Voicebank/clean_trainset_28spk_wav/p226_001.wav'"
   ]
  },
  {
   "cell_type": "code",
   "execution_count": 3,
   "metadata": {},
   "outputs": [],
   "source": [
    "arr, fs0  = waveform_freq(file_path, 16000)"
   ]
  },
  {
   "cell_type": "code",
   "execution_count": 4,
   "metadata": {},
   "outputs": [
    {
     "data": {
      "text/plain": [
       "(36480,)"
      ]
     },
     "execution_count": 4,
     "metadata": {},
     "output_type": "execute_result"
    }
   ],
   "source": [
    "arr.shape"
   ]
  },
  {
   "cell_type": "code",
   "execution_count": 5,
   "metadata": {},
   "outputs": [
    {
     "data": {
      "text/plain": [
       "48000"
      ]
     },
     "execution_count": 5,
     "metadata": {},
     "output_type": "execute_result"
    }
   ],
   "source": [
    "fs0"
   ]
  },
  {
   "cell_type": "code",
   "execution_count": 1,
   "metadata": {},
   "outputs": [],
   "source": [
    "%load_ext autoreload\n",
    "%autoreload 2"
   ]
  },
  {
   "cell_type": "code",
   "execution_count": 2,
   "metadata": {},
   "outputs": [
    {
     "name": "stdout",
     "output_type": "stream",
     "text": [
      "[[0.5 1. ]\n",
      " [2.  3. ]]\n",
      "\n",
      "Kernel must be Integer or vector (length > 1). Instead got [2].\n",
      "\n",
      "[[0.5 1. ]\n",
      " [2.  3. ]]\n",
      "\n",
      "[[1.33333333 2.        ]\n",
      " [1.33333333 2.        ]]\n",
      "\n",
      "Kernel must be Integer or vector (length > 1). Instead got [[2, 2, 2], [1, 1, 1]].\n",
      "\n",
      "[[0.5 1. ]\n",
      " [2.  3. ]]\n",
      "\n"
     ]
    }
   ],
   "source": [
    "from methods.Basic.smooth import smooth\n",
    "\n",
    "arr1 = [[1, 2], [3, 4]]\n",
    "# [2] and [[2, 2, 2], [1, 1, 1]] should fail\n",
    "arr2 = [2, [2], [2, 2], [2, 2, 2], [[2, 2, 2], [1, 1, 1]], -2]\n",
    "\n",
    "for _arr2 in arr2:\n",
    "    try:\n",
    "        print(smooth(arr1, _arr2, True))\n",
    "        print()\n",
    "    except Exception as e:\n",
    "        print(e)\n",
    "        print()"
   ]
  }
 ],
 "metadata": {
  "kernelspec": {
   "display_name": "pytorch",
   "language": "python",
   "name": "python3"
  },
  "language_info": {
   "codemirror_mode": {
    "name": "ipython",
    "version": 3
   },
   "file_extension": ".py",
   "mimetype": "text/x-python",
   "name": "python",
   "nbconvert_exporter": "python",
   "pygments_lexer": "ipython3",
   "version": "3.9.5"
  },
  "orig_nbformat": 4
 },
 "nbformat": 4,
 "nbformat_minor": 2
}
