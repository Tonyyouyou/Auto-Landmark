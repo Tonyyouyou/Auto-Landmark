{
 "cells": [
  {
   "cell_type": "code",
   "execution_count": 17,
   "metadata": {},
   "outputs": [
    {
     "name": "stdout",
     "output_type": "stream",
     "text": [
      "[1.0, 2.5, 3.0]\n",
      "[1.5, 3.5, 4.0]\n"
     ]
    }
   ],
   "source": [
    "def pair_peaks(g_plus, g_minus):\n",
    "    \"\"\"\n",
    "    Pair g+ and g- values such that each g+ is followed by a g-.\n",
    "\n",
    "    :param g_plus: List of g+ values (sorted in ascending order)\n",
    "    :param g_minus: List of g- values (sorted in ascending order)\n",
    "    :return: Two lists containing paired g+ and g- values\n",
    "    \"\"\"\n",
    "\n",
    "    g_plus_paired = []\n",
    "    g_minus_paired = []\n",
    "\n",
    "    i, j = 0, 0\n",
    "    while i < len(g_plus) and j < len(g_minus):\n",
    "        # If the current g+ value is less than the current g- value, add it to the paired list and move to the next g+\n",
    "        if g_plus[i] < g_minus[j]:\n",
    "            g_plus_paired.append(g_plus[i])\n",
    "            i += 1\n",
    "        # If the current g- value is less than the current g+ value, add it to the paired list and move to the next g-\n",
    "        else:\n",
    "            g_minus_paired.append(g_minus[j])\n",
    "            j += 1\n",
    "\n",
    "    # Ensuring we only retain pairs of g+ and g-, so the lists have equal length\n",
    "    min_length = min(len(g_plus_paired), len(g_minus_paired))\n",
    "    g_plus_paired = g_plus_paired[:min_length]\n",
    "    g_minus_paired = g_minus_paired[:min_length]\n",
    "\n",
    "    return g_plus_paired, g_minus_paired\n",
    "\n",
    "# Usage example:\n",
    "g_plus = [1.0, 2.5, 3.0, 4.5, 5.0]  # Replace with your g+ values\n",
    "g_minus = [1.5, 3.5, 4.0, 5.5]  # Replace with your g- values\n",
    "\n",
    "paired_g_plus, paired_g_minus = pair_peaks(g_plus, g_minus)\n",
    "print(paired_g_plus)\n",
    "print(paired_g_minus)"
   ]
  },
  {
   "cell_type": "code",
   "execution_count": 1,
   "metadata": {},
   "outputs": [],
   "source": [
    "from methods.Basic.Landmarks_func import extract_all_landmarks"
   ]
  },
  {
   "cell_type": "code",
   "execution_count": 2,
   "metadata": {},
   "outputs": [],
   "source": [
    "file = '/srv/scratch/z5459037/Data/test.wav'"
   ]
  },
  {
   "cell_type": "code",
   "execution_count": 3,
   "metadata": {},
   "outputs": [
    {
     "name": "stderr",
     "output_type": "stream",
     "text": [
      "/home/z5459037/Auto-Landmark/methods/Basic/Landmarks_func.py:219: RuntimeWarning: invalid value encountered in cast\n",
      "  b_region = np.array(peak_file.loc[peak_file['transition'] != -2, ['start', 'end']]).astype(int)\n"
     ]
    }
   ],
   "source": [
    "landmarks = extract_all_landmarks(file, 10)"
   ]
  },
  {
   "cell_type": "code",
   "execution_count": 4,
   "metadata": {},
   "outputs": [],
   "source": [
    "a = landmarks['g+']"
   ]
  },
  {
   "cell_type": "code",
   "execution_count": 8,
   "metadata": {},
   "outputs": [
    {
     "data": {
      "text/plain": [
       "{'g+': array([0.033, 0.202, 0.451, 0.518, 0.683, 0.769, 0.861, 0.964, 1.174,\n",
       "        1.324, 1.512, 1.692, 1.807, 1.896, 2.11 , 3.028, 3.101, 3.247,\n",
       "        4.068, 4.16 , 4.306, 4.608, 5.309, 5.431, 5.554, 5.859, 5.983,\n",
       "        6.106, 6.214, 6.401, 6.496, 6.569, 6.637, 6.725]),\n",
       " 'g-': array([0.149, 0.401, 0.485, 0.577, 0.662, 0.749, 0.84 , 0.915, 1.039,\n",
       "        1.154, 1.296, 1.436, 1.536, 1.651, 1.872, 2.691, 2.836, 2.971,\n",
       "        3.081, 3.148, 3.764, 4.048, 4.138, 4.589, 5.288, 5.411, 5.509,\n",
       "        5.594, 5.718, 5.839, 5.957, 6.085, 6.174, 6.451]),\n",
       " 's+': array([0.99 , 3.103]),\n",
       " 's-': array([4.1]),\n",
       " 'b+': array([4.237]),\n",
       " 'b-': array([], dtype=float64),\n",
       " 'v+': array([], dtype=float64),\n",
       " 'v-': array([], dtype=float64),\n",
       " 'f+': array([], dtype=float64),\n",
       " 'f-': array([], dtype=float64),\n",
       " 'p+': array([2.066125 , 3.23825  , 4.3051875, 4.6404375]),\n",
       " 'p-': array([2.6965   , 3.73425  , 4.6101875, 4.8036875])}"
      ]
     },
     "execution_count": 8,
     "metadata": {},
     "output_type": "execute_result"
    }
   ],
   "source": [
    "landmarks"
   ]
  },
  {
   "cell_type": "code",
   "execution_count": 5,
   "metadata": {},
   "outputs": [
    {
     "data": {
      "text/plain": [
       "34"
      ]
     },
     "execution_count": 5,
     "metadata": {},
     "output_type": "execute_result"
    }
   ],
   "source": [
    "len(a)"
   ]
  },
  {
   "cell_type": "code",
   "execution_count": 6,
   "metadata": {},
   "outputs": [],
   "source": [
    "b = landmarks['g-']"
   ]
  },
  {
   "cell_type": "code",
   "execution_count": 7,
   "metadata": {},
   "outputs": [
    {
     "data": {
      "text/plain": [
       "34"
      ]
     },
     "execution_count": 7,
     "metadata": {},
     "output_type": "execute_result"
    }
   ],
   "source": [
    "len(b)"
   ]
  },
  {
   "cell_type": "code",
   "execution_count": 28,
   "metadata": {},
   "outputs": [],
   "source": [
    "c, d = pair_peaks(a, b)"
   ]
  },
  {
   "cell_type": "code",
   "execution_count": 29,
   "metadata": {},
   "outputs": [
    {
     "data": {
      "text/plain": [
       "34"
      ]
     },
     "execution_count": 29,
     "metadata": {},
     "output_type": "execute_result"
    }
   ],
   "source": [
    "len(c)"
   ]
  },
  {
   "cell_type": "code",
   "execution_count": 30,
   "metadata": {},
   "outputs": [
    {
     "data": {
      "text/plain": [
       "34"
      ]
     },
     "execution_count": 30,
     "metadata": {},
     "output_type": "execute_result"
    }
   ],
   "source": [
    "len(d)"
   ]
  },
  {
   "cell_type": "code",
   "execution_count": 34,
   "metadata": {},
   "outputs": [
    {
     "data": {
      "text/plain": [
       "array([0.033, 0.202, 0.451, 0.518, 0.683, 0.769, 0.861, 0.964, 1.174,\n",
       "       1.324, 1.512, 1.692, 1.807, 1.896, 2.11 , 3.028, 3.101, 3.247,\n",
       "       4.068, 4.16 , 4.306, 4.608, 5.309, 5.431, 5.554, 5.859, 5.983,\n",
       "       6.106, 6.214, 6.401, 6.496, 6.569, 6.637, 6.725])"
      ]
     },
     "execution_count": 34,
     "metadata": {},
     "output_type": "execute_result"
    }
   ],
   "source": [
    "np.array(c)"
   ]
  },
  {
   "cell_type": "code",
   "execution_count": 35,
   "metadata": {},
   "outputs": [
    {
     "data": {
      "text/plain": [
       "array([0.149, 0.401, 0.485, 0.577, 0.662, 0.749, 0.84 , 0.915, 1.039,\n",
       "       1.154, 1.296, 1.436, 1.536, 1.651, 1.872, 2.691, 2.836, 2.971,\n",
       "       3.081, 3.148, 3.764, 4.048, 4.138, 4.589, 5.288, 5.411, 5.509,\n",
       "       5.594, 5.718, 5.839, 5.957, 6.085, 6.174, 6.451])"
      ]
     },
     "execution_count": 35,
     "metadata": {},
     "output_type": "execute_result"
    }
   ],
   "source": [
    "np.array(d)"
   ]
  },
  {
   "cell_type": "code",
   "execution_count": 36,
   "metadata": {},
   "outputs": [
    {
     "data": {
      "text/plain": [
       "array([0.033, 0.202, 0.451, 0.518, 0.683, 0.769, 0.861, 0.964, 1.174,\n",
       "       1.324, 1.512, 1.692, 1.807, 1.896, 2.11 , 3.028, 3.101, 3.247,\n",
       "       4.068, 4.16 , 4.306, 4.608, 5.309, 5.431, 5.554, 5.859, 5.983,\n",
       "       6.106, 6.214, 6.401, 6.496, 6.569, 6.637, 6.725])"
      ]
     },
     "execution_count": 36,
     "metadata": {},
     "output_type": "execute_result"
    }
   ],
   "source": [
    "a"
   ]
  },
  {
   "cell_type": "code",
   "execution_count": null,
   "metadata": {},
   "outputs": [],
   "source": []
  }
 ],
 "metadata": {
  "kernelspec": {
   "display_name": "pytorch",
   "language": "python",
   "name": "python3"
  },
  "language_info": {
   "codemirror_mode": {
    "name": "ipython",
    "version": 3
   },
   "file_extension": ".py",
   "mimetype": "text/x-python",
   "name": "python",
   "nbconvert_exporter": "python",
   "pygments_lexer": "ipython3",
   "version": "3.11.4"
  },
  "orig_nbformat": 4
 },
 "nbformat": 4,
 "nbformat_minor": 2
}
