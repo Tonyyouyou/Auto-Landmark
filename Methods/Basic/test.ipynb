{
 "cells": [
  {
   "cell_type": "code",
   "execution_count": 1,
   "metadata": {},
   "outputs": [],
   "source": [
    "from lm_codes import lm_codes"
   ]
  },
  {
   "cell_type": "code",
   "execution_count": 2,
   "metadata": {},
   "outputs": [
    {
     "ename": "AttributeError",
     "evalue": "'str' object has no attribute 'ndim'",
     "output_type": "error",
     "traceback": [
      "\u001b[0;31m---------------------------------------------------------------------------\u001b[0m",
      "\u001b[0;31mAttributeError\u001b[0m                            Traceback (most recent call last)",
      "Cell \u001b[0;32mIn[2], line 1\u001b[0m\n\u001b[0;32m----> 1\u001b[0m result \u001b[39m=\u001b[39m lm_codes(\u001b[39m'\u001b[39;49m\u001b[39mMINUS_G\u001b[39;49m\u001b[39m'\u001b[39;49m, \u001b[39m'\u001b[39;49m\u001b[39mPLUS_B\u001b[39;49m\u001b[39m'\u001b[39;49m, \u001b[39m'\u001b[39;49m\u001b[39mVOWEL\u001b[39;49m\u001b[39m'\u001b[39;49m)\n\u001b[1;32m      2\u001b[0m \u001b[39mprint\u001b[39m(result)\n",
      "File \u001b[0;32m~/Auto-Landmark/Methods/Basic/lm_codes.py:31\u001b[0m, in \u001b[0;36mlm_codes\u001b[0;34m(*args)\u001b[0m\n\u001b[1;32m     29\u001b[0m     arg_upper \u001b[39m=\u001b[39m arg\u001b[39m.\u001b[39mupper()\n\u001b[1;32m     30\u001b[0m     \u001b[39mif\u001b[39;00m arg_upper \u001b[39min\u001b[39;00m mapping:\n\u001b[0;32m---> 31\u001b[0m         outargs[\u001b[39m1\u001b[39m \u001b[39m+\u001b[39m args\u001b[39m.\u001b[39mindex(arg)] \u001b[39m=\u001b[39m lm_labels(mapping[arg_upper])\n\u001b[1;32m     33\u001b[0m \u001b[39mreturn\u001b[39;00m outargs[\u001b[39m1\u001b[39m:]\n",
      "File \u001b[0;32m~/Auto-Landmark/Methods/Basic/lm_labels.py:24\u001b[0m, in \u001b[0;36mlm_labels\u001b[0;34m(LMNDXS)\u001b[0m\n\u001b[1;32m     22\u001b[0m UNRECOG \u001b[39m=\u001b[39m \u001b[39m'\u001b[39m\u001b[39m?\u001b[39m\u001b[39m'\u001b[39m\n\u001b[1;32m     23\u001b[0m \u001b[39mif\u001b[39;00m \u001b[39misinstance\u001b[39m(LMNDXS, \u001b[39mstr\u001b[39m):\n\u001b[0;32m---> 24\u001b[0m     lmchrs \u001b[39m=\u001b[39m lm_ndx_labels(LMNDXS, LABELS)\n\u001b[1;32m     25\u001b[0m \u001b[39melse\u001b[39;00m:\n\u001b[1;32m     26\u001b[0m     lmchrs \u001b[39m=\u001b[39m lm_label_ndxs(LMNDXS, LABELS, UNRECOG)\n",
      "File \u001b[0;32m~/Auto-Landmark/Methods/Basic/lm_labels.py:55\u001b[0m, in \u001b[0;36mlm_ndx_labels\u001b[0;34m(LMCHRS, LABELS)\u001b[0m\n\u001b[1;32m     52\u001b[0m CHECK_TYPES \u001b[39m=\u001b[39m \u001b[39mTrue\u001b[39;00m  \u001b[39m# Set to False if type checking is not required\u001b[39;00m\n\u001b[1;32m     54\u001b[0m \u001b[39mif\u001b[39;00m CHECK_TYPES:\n\u001b[0;32m---> 55\u001b[0m     \u001b[39mif\u001b[39;00m LMCHRS\u001b[39m.\u001b[39;49mndim \u001b[39m>\u001b[39m \u001b[39m2\u001b[39m \u001b[39mor\u001b[39;00m (LMCHRS\u001b[39m.\u001b[39mshape[\u001b[39m1\u001b[39m] \u001b[39m!=\u001b[39m \u001b[39m2\u001b[39m \u001b[39mand\u001b[39;00m LMCHRS\u001b[39m.\u001b[39mshape[\u001b[39m0\u001b[39m] \u001b[39m!=\u001b[39m \u001b[39m2\u001b[39m):\n\u001b[1;32m     56\u001b[0m         \u001b[39mraise\u001b[39;00m \u001b[39mValueError\u001b[39;00m(\u001b[39m'\u001b[39m\u001b[39mLandmark labels must be Nx2 characters.\u001b[39m\u001b[39m'\u001b[39m)\n\u001b[1;32m     58\u001b[0m \u001b[39mif\u001b[39;00m LMCHRS\u001b[39m.\u001b[39mshape[\u001b[39m1\u001b[39m] \u001b[39m!=\u001b[39m \u001b[39m2\u001b[39m:\n",
      "\u001b[0;31mAttributeError\u001b[0m: 'str' object has no attribute 'ndim'"
     ]
    }
   ],
   "source": [
    "result = lm_codes('MINUS_G', 'PLUS_B', 'VOWEL')\n",
    "print(result)"
   ]
  },
  {
   "cell_type": "code",
   "execution_count": null,
   "metadata": {},
   "outputs": [],
   "source": []
  }
 ],
 "metadata": {
  "kernelspec": {
   "display_name": "pytorch",
   "language": "python",
   "name": "python3"
  },
  "language_info": {
   "codemirror_mode": {
    "name": "ipython",
    "version": 3
   },
   "file_extension": ".py",
   "mimetype": "text/x-python",
   "name": "python",
   "nbconvert_exporter": "python",
   "pygments_lexer": "ipython3",
   "version": "3.10.11"
  },
  "orig_nbformat": 4
 },
 "nbformat": 4,
 "nbformat_minor": 2
}
